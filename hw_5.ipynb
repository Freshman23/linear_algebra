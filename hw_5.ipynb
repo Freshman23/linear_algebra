{
 "cells": [
  {
   "cell_type": "markdown",
   "id": "9a8d13ed",
   "metadata": {},
   "source": [
    "# Сингулярное разложение матриц."
   ]
  },
  {
   "cell_type": "markdown",
   "id": "5eea7222",
   "metadata": {},
   "source": [
    "### Задание №1.\n",
    "Найти с помощью NumPy SVD для матрицы\n",
    "\n",
    "$$\\begin{pmatrix}\n",
    "1 & 2 & 0\\\\ \n",
    "0 & 0 & 5\\\\ \n",
    "3 & -4 & 2\\\\ \n",
    "1 & 6 & 5\\\\ \n",
    "0 & 1 & 0\n",
    "\\end{pmatrix}.$$\n",
    "\n",
    "__Решение:__\n"
   ]
  },
  {
   "cell_type": "code",
   "execution_count": 1,
   "id": "0af54ae2",
   "metadata": {},
   "outputs": [],
   "source": [
    "import numpy as np\n",
    "np.set_printoptions(precision=3, suppress=True)\n",
    "\n",
    "A = np.array([[1, 2, 0], [0 ,0 ,5], [3, -4, 2], [1, 6, 5], [0, 1, 0]])\n",
    "\n",
    "U, s, W = np.linalg.svd(A)\n",
    "\n",
    "D = np.zeros_like(A, dtype=float)\n",
    "D[np.diag_indices(min(A.shape))] = s"
   ]
  },
  {
   "cell_type": "code",
   "execution_count": 2,
   "id": "b4d207d0",
   "metadata": {},
   "outputs": [
    {
     "name": "stdout",
     "output_type": "stream",
     "text": [
      "[[ 1  2  0]\n",
      " [ 0  0  5]\n",
      " [ 3 -4  2]\n",
      " [ 1  6  5]\n",
      " [ 0  1  0]]\n",
      "=\n",
      "[[ 0.171  0.157 -0.531 -0.799 -0.162]\n",
      " [ 0.393 -0.529  0.613 -0.434  0.031]\n",
      " [-0.144 -0.824 -0.524  0.14   0.074]\n",
      " [ 0.888  0.061 -0.247  0.378 -0.06 ]\n",
      " [ 0.081  0.108 -0.082 -0.105  0.982]]\n",
      "*\n",
      "[[8.825 0.    0.   ]\n",
      " [0.    6.141 0.   ]\n",
      " [0.    0.    2.533]\n",
      " [0.    0.    0.   ]\n",
      " [0.    0.    0.   ]]\n",
      "*\n",
      "[[ 0.071  0.717  0.693]\n",
      " [-0.367  0.665 -0.65 ]\n",
      " [-0.927 -0.208  0.311]]\n"
     ]
    }
   ],
   "source": [
    "print(A, '=', U, '*', D, '*', W, sep='\\n')"
   ]
  },
  {
   "cell_type": "markdown",
   "id": "8e508696",
   "metadata": {},
   "source": [
    "Проверим:"
   ]
  },
  {
   "cell_type": "code",
   "execution_count": 3,
   "id": "66914f45",
   "metadata": {},
   "outputs": [
    {
     "data": {
      "text/plain": [
       "array([[ 1.,  2.,  0.],\n",
       "       [ 0., -0.,  5.],\n",
       "       [ 3., -4.,  2.],\n",
       "       [ 1.,  6.,  5.],\n",
       "       [-0.,  1.,  0.]])"
      ]
     },
     "execution_count": 3,
     "metadata": {},
     "output_type": "execute_result"
    }
   ],
   "source": [
    "U @ D @ W"
   ]
  },
  {
   "cell_type": "code",
   "execution_count": 6,
   "id": "e03b8f82",
   "metadata": {},
   "outputs": [
    {
     "data": {
      "text/plain": [
       "array([[ 1.,  0., -0.,  0.,  0.],\n",
       "       [ 0.,  1.,  0.,  0.,  0.],\n",
       "       [-0.,  0.,  1., -0.,  0.],\n",
       "       [ 0.,  0., -0.,  1.,  0.],\n",
       "       [ 0.,  0.,  0.,  0.,  1.]])"
      ]
     },
     "execution_count": 6,
     "metadata": {},
     "output_type": "execute_result"
    }
   ],
   "source": [
    "U @ U.T"
   ]
  },
  {
   "cell_type": "code",
   "execution_count": 5,
   "id": "e833e629",
   "metadata": {},
   "outputs": [
    {
     "data": {
      "text/plain": [
       "array([[ 1.,  0.,  0.],\n",
       "       [ 0.,  1., -0.],\n",
       "       [ 0., -0.,  1.]])"
      ]
     },
     "execution_count": 5,
     "metadata": {},
     "output_type": "execute_result"
    }
   ],
   "source": [
    "W @ W.T"
   ]
  },
  {
   "cell_type": "markdown",
   "id": "2bc6ca8e",
   "metadata": {},
   "source": [
    "___\n",
    "### Задание №2.\n",
    "Для матрицы из предыдущего задания найти:\n",
    "\n",
    "а) евклидову норму;\n",
    "    \n",
    "б) норму Фробениуса.\n",
    "\n",
    "__Решение:__\n",
    "\n",
    "а) Евклидова норма:\n",
    "\n",
    "$$\\left \\| A \\right \\|_{E}=\\mu_{max}.$$"
   ]
  },
  {
   "cell_type": "code",
   "execution_count": 7,
   "id": "52e2ded2",
   "metadata": {},
   "outputs": [
    {
     "data": {
      "text/plain": [
       "8.824868854820442"
      ]
     },
     "execution_count": 7,
     "metadata": {},
     "output_type": "execute_result"
    }
   ],
   "source": [
    "max(s)"
   ]
  },
  {
   "cell_type": "markdown",
   "id": "cebea7ff",
   "metadata": {},
   "source": [
    "б) Норма Фробениуса:\n",
    "\n",
    "$$\\left \\| A \\right \\|_{F}=\\sqrt{\\sum_{k=1}^{r}\\mu_{k}^{2}}.$$"
   ]
  },
  {
   "cell_type": "code",
   "execution_count": 8,
   "id": "dfe4540d",
   "metadata": {},
   "outputs": [
    {
     "data": {
      "text/plain": [
       "11.045361017187261"
      ]
     },
     "execution_count": 8,
     "metadata": {},
     "output_type": "execute_result"
    }
   ],
   "source": [
    "np.linalg.norm(s)"
   ]
  }
 ],
 "metadata": {
  "kernelspec": {
   "display_name": "Python 3",
   "language": "python",
   "name": "python3"
  },
  "language_info": {
   "codemirror_mode": {
    "name": "ipython",
    "version": 3
   },
   "file_extension": ".py",
   "mimetype": "text/x-python",
   "name": "python",
   "nbconvert_exporter": "python",
   "pygments_lexer": "ipython3",
   "version": "3.8.8"
  }
 },
 "nbformat": 4,
 "nbformat_minor": 5
}
